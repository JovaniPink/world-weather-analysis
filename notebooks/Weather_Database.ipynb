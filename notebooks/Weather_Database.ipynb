{
 "metadata": {
  "language_info": {
   "codemirror_mode": {
    "name": "ipython",
    "version": 3
   },
   "file_extension": ".py",
   "mimetype": "text/x-python",
   "name": "python",
   "nbconvert_exporter": "python",
   "pygments_lexer": "ipython3",
   "version": "3.7.7-final"
  },
  "orig_nbformat": 2,
  "kernelspec": {
   "name": "python_defaultSpec_1598833794241",
   "display_name": "Python 3"
  }
 },
 "nbformat": 4,
 "nbformat_minor": 2,
 "cells": [
  {
   "cell_type": "code",
   "execution_count": 14,
   "metadata": {},
   "outputs": [],
   "source": [
    "%config IPCompleter.greedy=True\n",
    "%matplotlib inline"
   ]
  },
  {
   "cell_type": "code",
   "execution_count": 15,
   "metadata": {},
   "outputs": [],
   "source": [
    "# Import the dependencies.\n",
    "import pandas as pd\n",
    "import matplotlib.pyplot as plt\n",
    "import numpy as np\n",
    "from scipy import stats"
   ]
  },
  {
   "cell_type": "code",
   "execution_count": 16,
   "metadata": {},
   "outputs": [],
   "source": [
    "# Import the requests library.\n",
    "import requests\n",
    "\n",
    "# Import the API key.\n",
    "from config import weather_api_key"
   ]
  },
  {
   "cell_type": "code",
   "execution_count": 17,
   "metadata": {},
   "outputs": [],
   "source": [
    "# Import the datetime module from the datetime library.\n",
    "from datetime import datetime"
   ]
  },
  {
   "cell_type": "code",
   "execution_count": 18,
   "metadata": {
    "tags": []
   },
   "outputs": [
    {
     "output_type": "stream",
     "name": "stdout",
     "text": "http://api.openweathermap.org/data/2.5/weather?units=Imperial&APPID=c86c27774e3709fc1f81f95454134804\n"
    }
   ],
   "source": [
    "# Starting URL for Weather Map API Call.\n",
    "url = \"http://api.openweathermap.org/data/2.5/weather?units=Imperial&APPID=\" + weather_api_key\n",
    "print(url)"
   ]
  },
  {
   "cell_type": "code",
   "execution_count": 19,
   "metadata": {},
   "outputs": [
    {
     "output_type": "execute_result",
     "data": {
      "text/plain": "<zip at 0x1a9c739a408>"
     },
     "metadata": {},
     "execution_count": 19
    }
   ],
   "source": [
    "# Create a set of random latitude and longitude combinations.\n",
    "lats = np.random.uniform(low=-90.000, high=90.000, size=2000)\n",
    "lngs = np.random.uniform(low=-180.000, high=180.000, size=2000)\n",
    "lat_lngs = zip(lats, lngs)\n",
    "lat_lngs"
   ]
  },
  {
   "cell_type": "code",
   "execution_count": 20,
   "metadata": {},
   "outputs": [],
   "source": [
    "# Use the citipy module to determine city based on latitude and longitude.\n",
    "from citipy import citipy"
   ]
  },
  {
   "cell_type": "code",
   "execution_count": 21,
   "metadata": {},
   "outputs": [
    {
     "output_type": "execute_result",
     "data": {
      "text/plain": "751"
     },
     "metadata": {},
     "execution_count": 21
    }
   ],
   "source": [
    "# Create a list for holding the cities.\n",
    "cities = []\n",
    "# Identify the nearest city for each latitude and longitude combination.\n",
    "for lat_lng in lat_lngs:\n",
    "    city = citipy.nearest_city(lat_lng[0], lat_lng[1]).city_name\n",
    "\n",
    "    # If the city is unique, then we will add it to the cities list.\n",
    "    if city not in cities:\n",
    "        cities.append(city)\n",
    "# Print the city count to confirm sufficient count.\n",
    "len(cities)"
   ]
  },
  {
   "cell_type": "code",
   "execution_count": 22,
   "metadata": {
    "tags": []
   },
   "outputs": [
    {
     "output_type": "stream",
     "name": "stdout",
     "text": "Beginning Data Retrieval     \n-----------------------------\n"
    }
   ],
   "source": [
    "# Create an empty list to hold the weather data.\n",
    "city_data = []\n",
    "# Print the beginning of the logging.\n",
    "print(\"Beginning Data Retrieval     \")\n",
    "print(\"-----------------------------\")\n",
    "\n",
    "# Create counters.\n",
    "record_count = 1\n",
    "set_count = 1"
   ]
  },
  {
   "cell_type": "code",
   "execution_count": 23,
   "metadata": {
    "tags": [
     "outputPrepend"
    ]
   },
   "outputs": [
    {
     "output_type": "stream",
     "name": "stdout",
     "text": "ta Retrieval Complete      \n-----------------------------\nProcessing Record 2 of Set 13 | bubaque\n-----------------------------\nData Retrieval Complete      \n-----------------------------\nProcessing Record 3 of Set 13 | dubbo\n-----------------------------\nData Retrieval Complete      \n-----------------------------\nProcessing Record 4 of Set 13 | itigi\n-----------------------------\nData Retrieval Complete      \n-----------------------------\nProcessing Record 5 of Set 13 | puerto carreno\n-----------------------------\nData Retrieval Complete      \n-----------------------------\nProcessing Record 6 of Set 13 | foam lake\n-----------------------------\nData Retrieval Complete      \n-----------------------------\nProcessing Record 7 of Set 13 | paragominas\n-----------------------------\nData Retrieval Complete      \n-----------------------------\nProcessing Record 8 of Set 13 | lolua\nCity not found. Skipping...\n-----------------------------\nData Retrieval Complete      \n-----------------------------\nProcessing Record 9 of Set 13 | havelock\n-----------------------------\nData Retrieval Complete      \n-----------------------------\nProcessing Record 10 of Set 13 | barreiras\n-----------------------------\nData Retrieval Complete      \n-----------------------------\nProcessing Record 11 of Set 13 | grindavik\n-----------------------------\nData Retrieval Complete      \n-----------------------------\nProcessing Record 12 of Set 13 | pilar\n-----------------------------\nData Retrieval Complete      \n-----------------------------\nProcessing Record 13 of Set 13 | payo\n-----------------------------\nData Retrieval Complete      \n-----------------------------\nProcessing Record 14 of Set 13 | willowmore\n-----------------------------\nData Retrieval Complete      \n-----------------------------\nProcessing Record 15 of Set 13 | macultepec\n-----------------------------\nData Retrieval Complete      \n-----------------------------\nProcessing Record 16 of Set 13 | svetlaya\n-----------------------------\nData Retrieval Complete      \n-----------------------------\nProcessing Record 17 of Set 13 | stornoway\n-----------------------------\nData Retrieval Complete      \n-----------------------------\nProcessing Record 18 of Set 13 | oksfjord\n-----------------------------\nData Retrieval Complete      \n-----------------------------\nProcessing Record 19 of Set 13 | tahe\n-----------------------------\nData Retrieval Complete      \n-----------------------------\nProcessing Record 20 of Set 13 | sarakhs\n-----------------------------\nData Retrieval Complete      \n-----------------------------\nProcessing Record 21 of Set 13 | daitari\n-----------------------------\nData Retrieval Complete      \n-----------------------------\nProcessing Record 22 of Set 13 | jumla\n-----------------------------\nData Retrieval Complete      \n-----------------------------\nProcessing Record 23 of Set 13 | saint-pierre\n-----------------------------\nData Retrieval Complete      \n-----------------------------\nProcessing Record 24 of Set 13 | novaya ladoga\n-----------------------------\nData Retrieval Complete      \n-----------------------------\nProcessing Record 25 of Set 13 | sherwood\n-----------------------------\nData Retrieval Complete      \n-----------------------------\nProcessing Record 26 of Set 13 | el colorado\n-----------------------------\nData Retrieval Complete      \n-----------------------------\nProcessing Record 27 of Set 13 | copiapo\n-----------------------------\nData Retrieval Complete      \n-----------------------------\nProcessing Record 28 of Set 13 | beipiao\n-----------------------------\nData Retrieval Complete      \n-----------------------------\nProcessing Record 29 of Set 13 | virginia beach\n-----------------------------\nData Retrieval Complete      \n-----------------------------\nProcessing Record 30 of Set 13 | shumskiy\n-----------------------------\nData Retrieval Complete      \n-----------------------------\nProcessing Record 31 of Set 13 | san cristobal\n-----------------------------\nData Retrieval Complete      \n-----------------------------\nProcessing Record 32 of Set 13 | ushtobe\n-----------------------------\nData Retrieval Complete      \n-----------------------------\nProcessing Record 33 of Set 13 | leshukonskoye\n-----------------------------\nData Retrieval Complete      \n-----------------------------\nProcessing Record 34 of Set 13 | birao\n-----------------------------\nData Retrieval Complete      \n-----------------------------\nProcessing Record 35 of Set 13 | tankhoy\n-----------------------------\nData Retrieval Complete      \n-----------------------------\nProcessing Record 36 of Set 13 | vardo\n-----------------------------\nData Retrieval Complete      \n-----------------------------\nProcessing Record 37 of Set 13 | ukiah\n-----------------------------\nData Retrieval Complete      \n-----------------------------\nProcessing Record 38 of Set 13 | sola\n-----------------------------\nData Retrieval Complete      \n-----------------------------\nProcessing Record 39 of Set 13 | chapais\n-----------------------------\nData Retrieval Complete      \n-----------------------------\nProcessing Record 40 of Set 13 | benito juarez\n-----------------------------\nData Retrieval Complete      \n-----------------------------\nProcessing Record 41 of Set 13 | ouadda\n-----------------------------\nData Retrieval Complete      \n-----------------------------\nProcessing Record 42 of Set 13 | mweka\n-----------------------------\nData Retrieval Complete      \n-----------------------------\nProcessing Record 43 of Set 13 | dwarka\n-----------------------------\nData Retrieval Complete      \n-----------------------------\nProcessing Record 44 of Set 13 | sechura\n-----------------------------\nData Retrieval Complete      \n-----------------------------\nProcessing Record 45 of Set 13 | ahipara\n-----------------------------\nData Retrieval Complete      \n-----------------------------\nProcessing Record 46 of Set 13 | port macquarie\n-----------------------------\nData Retrieval Complete      \n-----------------------------\nProcessing Record 47 of Set 13 | kokoda\n-----------------------------\nData Retrieval Complete      \n-----------------------------\nProcessing Record 48 of Set 13 | shanghai\n-----------------------------\nData Retrieval Complete      \n-----------------------------\nProcessing Record 49 of Set 13 | dzerzhinskoye\n-----------------------------\nData Retrieval Complete      \n-----------------------------\nProcessing Record 50 of Set 13 | limulunga\n-----------------------------\nData Retrieval Complete      \n-----------------------------\nProcessing Record 1 of Set 14 | ascension\n-----------------------------\nData Retrieval Complete      \n-----------------------------\nProcessing Record 2 of Set 14 | oussouye\n-----------------------------\nData Retrieval Complete      \n-----------------------------\nProcessing Record 3 of Set 14 | trapani\n-----------------------------\nData Retrieval Complete      \n-----------------------------\nProcessing Record 4 of Set 14 | rancho veloz\n-----------------------------\nData Retrieval Complete      \n-----------------------------\nProcessing Record 5 of Set 14 | batticaloa\n-----------------------------\nData Retrieval Complete      \n-----------------------------\nProcessing Record 6 of Set 14 | manicore\n-----------------------------\nData Retrieval Complete      \n-----------------------------\nProcessing Record 7 of Set 14 | erenhot\n-----------------------------\nData Retrieval Complete      \n-----------------------------\nProcessing Record 8 of Set 14 | sorland\n-----------------------------\nData Retrieval Complete      \n-----------------------------\nProcessing Record 9 of Set 14 | sumbe\n-----------------------------\nData Retrieval Complete      \n-----------------------------\nProcessing Record 10 of Set 14 | trairi\n-----------------------------\nData Retrieval Complete      \n-----------------------------\nProcessing Record 11 of Set 14 | taitung\n-----------------------------\nData Retrieval Complete      \n-----------------------------\nProcessing Record 12 of Set 14 | vao\n-----------------------------\nData Retrieval Complete      \n-----------------------------\nProcessing Record 13 of Set 14 | bull savanna\n-----------------------------\nData Retrieval Complete      \n-----------------------------\nProcessing Record 14 of Set 14 | tigil\n-----------------------------\nData Retrieval Complete      \n-----------------------------\nProcessing Record 15 of Set 14 | yumen\n-----------------------------\nData Retrieval Complete      \n-----------------------------\nProcessing Record 16 of Set 14 | bolivar\n-----------------------------\nData Retrieval Complete      \n-----------------------------\nProcessing Record 17 of Set 14 | szczecinek\n-----------------------------\nData Retrieval Complete      \n-----------------------------\nProcessing Record 18 of Set 14 | qitaihe\n-----------------------------\nData Retrieval Complete      \n-----------------------------\nProcessing Record 19 of Set 14 | dzitas\n-----------------------------\nData Retrieval Complete      \n-----------------------------\nProcessing Record 20 of Set 14 | healdsburg\n-----------------------------\nData Retrieval Complete      \n-----------------------------\nProcessing Record 21 of Set 14 | haibowan\nCity not found. Skipping...\n-----------------------------\nData Retrieval Complete      \n-----------------------------\nProcessing Record 22 of Set 14 | baoding\n-----------------------------\nData Retrieval Complete      \n-----------------------------\nProcessing Record 23 of Set 14 | maltahohe\n-----------------------------\nData Retrieval Complete      \n-----------------------------\nProcessing Record 24 of Set 14 | tongchuan\n-----------------------------\nData Retrieval Complete      \n-----------------------------\nProcessing Record 25 of Set 14 | acapulco\n-----------------------------\nData Retrieval Complete      \n-----------------------------\nProcessing Record 26 of Set 14 | boralday\n-----------------------------\nData Retrieval Complete      \n-----------------------------\nProcessing Record 27 of Set 14 | bela\n-----------------------------\nData Retrieval Complete      \n-----------------------------\nProcessing Record 28 of Set 14 | kedrovyy\n-----------------------------\nData Retrieval Complete      \n-----------------------------\nProcessing Record 29 of Set 14 | stokmarknes\n-----------------------------\nData Retrieval Complete      \n-----------------------------\nProcessing Record 30 of Set 14 | davila\n-----------------------------\nData Retrieval Complete      \n-----------------------------\nProcessing Record 31 of Set 14 | nuuk\n-----------------------------\nData Retrieval Complete      \n-----------------------------\nProcessing Record 32 of Set 14 | ellisras\n-----------------------------\nData Retrieval Complete      \n-----------------------------\nProcessing Record 33 of Set 14 | luohe\n-----------------------------\nData Retrieval Complete      \n-----------------------------\nProcessing Record 34 of Set 14 | kendari\n-----------------------------\nData Retrieval Complete      \n-----------------------------\nProcessing Record 35 of Set 14 | magdagachi\n-----------------------------\nData Retrieval Complete      \n-----------------------------\nProcessing Record 36 of Set 14 | malakal\n-----------------------------\nData Retrieval Complete      \n-----------------------------\nProcessing Record 37 of Set 14 | numata\n-----------------------------\nData Retrieval Complete      \n-----------------------------\nProcessing Record 38 of Set 14 | novogurovskiy\n-----------------------------\nData Retrieval Complete      \n-----------------------------\nProcessing Record 39 of Set 14 | tisovec\n-----------------------------\nData Retrieval Complete      \n-----------------------------\nProcessing Record 40 of Set 14 | nova floresta\n-----------------------------\nData Retrieval Complete      \n-----------------------------\nProcessing Record 41 of Set 14 | bageshwar\n-----------------------------\nData Retrieval Complete      \n-----------------------------\nProcessing Record 42 of Set 14 | pegnitz\n-----------------------------\nData Retrieval Complete      \n-----------------------------\nProcessing Record 43 of Set 14 | banavar\n-----------------------------\nData Retrieval Complete      \n-----------------------------\nProcessing Record 44 of Set 14 | chicama\n-----------------------------\nData Retrieval Complete      \n-----------------------------\nProcessing Record 45 of Set 14 | lannion\n-----------------------------\nData Retrieval Complete      \n-----------------------------\nProcessing Record 46 of Set 14 | sucha beskidzka\n-----------------------------\nData Retrieval Complete      \n-----------------------------\nProcessing Record 47 of Set 14 | arona\n-----------------------------\nData Retrieval Complete      \n-----------------------------\nProcessing Record 48 of Set 14 | jabiru\nCity not found. Skipping...\n-----------------------------\nData Retrieval Complete      \n-----------------------------\nProcessing Record 49 of Set 14 | te anau\n-----------------------------\nData Retrieval Complete      \n-----------------------------\nProcessing Record 50 of Set 14 | agua verde\n-----------------------------\nData Retrieval Complete      \n-----------------------------\nProcessing Record 1 of Set 15 | omboue\n-----------------------------\nData Retrieval Complete      \n-----------------------------\nProcessing Record 2 of Set 15 | kang\n-----------------------------\nData Retrieval Complete      \n-----------------------------\nProcessing Record 3 of Set 15 | ginda\n-----------------------------\nData Retrieval Complete      \n-----------------------------\nProcessing Record 4 of Set 15 | payson\n-----------------------------\nData Retrieval Complete      \n-----------------------------\nProcessing Record 5 of Set 15 | otradnoye\n-----------------------------\nData Retrieval Complete      \n-----------------------------\nProcessing Record 6 of Set 15 | biak\n-----------------------------\nData Retrieval Complete      \n-----------------------------\nProcessing Record 7 of Set 15 | punta gorda\n-----------------------------\nData Retrieval Complete      \n-----------------------------\nProcessing Record 8 of Set 15 | tecoanapa\n-----------------------------\nData Retrieval Complete      \n-----------------------------\nProcessing Record 9 of Set 15 | san antonio\n-----------------------------\nData Retrieval Complete      \n-----------------------------\nProcessing Record 10 of Set 15 | phalombe\n-----------------------------\nData Retrieval Complete      \n-----------------------------\nProcessing Record 11 of Set 15 | beringovskiy\n-----------------------------\nData Retrieval Complete      \n-----------------------------\nProcessing Record 12 of Set 15 | radeberg\n-----------------------------\nData Retrieval Complete      \n-----------------------------\nProcessing Record 13 of Set 15 | salisbury\n-----------------------------\nData Retrieval Complete      \n-----------------------------\nProcessing Record 14 of Set 15 | boone\n-----------------------------\nData Retrieval Complete      \n-----------------------------\nProcessing Record 15 of Set 15 | sabha\n-----------------------------\nData Retrieval Complete      \n-----------------------------\nProcessing Record 16 of Set 15 | dunmore town\n-----------------------------\nData Retrieval Complete      \n-----------------------------\nProcessing Record 17 of Set 15 | mergui\nCity not found. Skipping...\n-----------------------------\nData Retrieval Complete      \n-----------------------------\nProcessing Record 18 of Set 15 | huitziltepec\n-----------------------------\nData Retrieval Complete      \n-----------------------------\nProcessing Record 19 of Set 15 | kenai\n-----------------------------\nData Retrieval Complete      \n-----------------------------\nProcessing Record 20 of Set 15 | svetlogorsk\n-----------------------------\nData Retrieval Complete      \n-----------------------------\nProcessing Record 21 of Set 15 | jinchang\n-----------------------------\nData Retrieval Complete      \n-----------------------------\nProcessing Record 22 of Set 15 | panna\n-----------------------------\nData Retrieval Complete      \n-----------------------------\nProcessing Record 23 of Set 15 | mmabatho\n-----------------------------\nData Retrieval Complete      \n-----------------------------\nProcessing Record 24 of Set 15 | bundaberg\n-----------------------------\nData Retrieval Complete      \n-----------------------------\nProcessing Record 25 of Set 15 | sakaraha\n-----------------------------\nData Retrieval Complete      \n-----------------------------\nProcessing Record 26 of Set 15 | gamba\n-----------------------------\nData Retrieval Complete      \n-----------------------------\nProcessing Record 27 of Set 15 | markova\n-----------------------------\nData Retrieval Complete      \n-----------------------------\nProcessing Record 28 of Set 15 | doctor pedro p. pena\nCity not found. Skipping...\n-----------------------------\nData Retrieval Complete      \n-----------------------------\nProcessing Record 29 of Set 15 | mindelo\n-----------------------------\nData Retrieval Complete      \n-----------------------------\nProcessing Record 30 of Set 15 | ramhormoz\n-----------------------------\nData Retrieval Complete      \n-----------------------------\nProcessing Record 31 of Set 15 | yanam\n-----------------------------\nData Retrieval Complete      \n-----------------------------\nProcessing Record 32 of Set 15 | ruatoria\nCity not found. Skipping...\n-----------------------------\nData Retrieval Complete      \n-----------------------------\nProcessing Record 33 of Set 15 | smirnykh\n-----------------------------\nData Retrieval Complete      \n-----------------------------\nProcessing Record 34 of Set 15 | podor\n-----------------------------\nData Retrieval Complete      \n-----------------------------\nProcessing Record 35 of Set 15 | chernyshevskiy\n-----------------------------\nData Retrieval Complete      \n-----------------------------\nProcessing Record 36 of Set 15 | bellary\n-----------------------------\nData Retrieval Complete      \n-----------------------------\nProcessing Record 37 of Set 15 | ust-karsk\n-----------------------------\nData Retrieval Complete      \n-----------------------------\nProcessing Record 38 of Set 15 | millinocket\n-----------------------------\nData Retrieval Complete      \n-----------------------------\nProcessing Record 39 of Set 15 | maidens\n-----------------------------\nData Retrieval Complete      \n-----------------------------\nProcessing Record 40 of Set 15 | languyan\n-----------------------------\nData Retrieval Complete      \n-----------------------------\nProcessing Record 41 of Set 15 | meulaboh\n-----------------------------\nData Retrieval Complete      \n-----------------------------\nProcessing Record 42 of Set 15 | kulunda\n-----------------------------\nData Retrieval Complete      \n-----------------------------\nProcessing Record 43 of Set 15 | nizhniy baskunchak\n-----------------------------\nData Retrieval Complete      \n-----------------------------\nProcessing Record 44 of Set 15 | palmer\n-----------------------------\nData Retrieval Complete      \n-----------------------------\nProcessing Record 45 of Set 15 | yam\n-----------------------------\nData Retrieval Complete      \n-----------------------------\nProcessing Record 46 of Set 15 | lethem\n-----------------------------\nData Retrieval Complete      \n-----------------------------\nProcessing Record 47 of Set 15 | kirakira\n-----------------------------\nData Retrieval Complete      \n-----------------------------\nProcessing Record 48 of Set 15 | curup\n-----------------------------\nData Retrieval Complete      \n-----------------------------\nProcessing Record 49 of Set 15 | labytnangi\n-----------------------------\nData Retrieval Complete      \n-----------------------------\nProcessing Record 50 of Set 15 | druzhba\n-----------------------------\nData Retrieval Complete      \n-----------------------------\nProcessing Record 1 of Set 16 | churapcha\n-----------------------------\nData Retrieval Complete      \n-----------------------------\n"
    }
   ],
   "source": [
    "# Loop through all the cities in the list.\n",
    "for i, city in enumerate(cities):\n",
    "\n",
    "    # Group cities in sets of 50 for logging purposes.\n",
    "    if (i % 50 == 0 and i >= 50):\n",
    "        set_count += 1\n",
    "        record_count = 1\n",
    "    # Create endpoint URL with each city.\n",
    "    city_url = url + \"&q=\" + city.replace(\" \",\"+\")\n",
    "\n",
    "    # Log the URL, record, and set numbers and the city.\n",
    "    print(f\"Processing Record {record_count} of Set {set_count} | {city}\")\n",
    "    # Add 1 to the record count.\n",
    "    record_count += 1\n",
    "    \n",
    "    # Run an API request for each of the cities.\n",
    "    try:\n",
    "        # Parse the JSON and retrieve data.\n",
    "        city_weather = requests.get(city_url).json()\n",
    "        # Parse out the needed data.\n",
    "        city_lat = city_weather[\"coord\"][\"lat\"]\n",
    "        city_lng = city_weather[\"coord\"][\"lon\"]\n",
    "        city_max_temp = city_weather[\"main\"][\"temp_max\"]\n",
    "        city_humidity = city_weather[\"main\"][\"humidity\"]\n",
    "        city_clouds = city_weather[\"clouds\"][\"all\"]\n",
    "        city_wind = city_weather[\"wind\"][\"speed\"]\n",
    "        city_country = city_weather[\"sys\"][\"country\"]\n",
    "        weather_description = city_weather[\"weather\"][0][\"description\"]\n",
    "        # Convert the date to ISO standard.\n",
    "        city_date = datetime.utcfromtimestamp(city_weather[\"dt\"]).strftime('%Y-%m-%d %H:%M:%S')\n",
    "        # Append the city information into city_data list.\n",
    "        city_data.append({\"City\": city.title(),\n",
    "                          \"Lat\": city_lat,\n",
    "                          \"Lng\": city_lng,\n",
    "                          \"Max Temp\": city_max_temp,\n",
    "                          \"Humidity\": city_humidity,\n",
    "                          \"Cloudiness\": city_clouds,\n",
    "                          \"Wind Speed\": city_wind,\n",
    "                          \"Current Description\": weather_description,\n",
    "                          \"Country\": city_country,\n",
    "                          \"Date\": city_date})\n",
    "\n",
    "    # If an error is experienced, skip the city.\n",
    "    except:\n",
    "        print(\"City not found. Skipping...\")\n",
    "        pass\n",
    "\n",
    "    # Indicate that Data Loading is complete.\n",
    "    print(\"-----------------------------\")\n",
    "    print(\"Data Retrieval Complete      \")\n",
    "    print(\"-----------------------------\")"
   ]
  },
  {
   "cell_type": "code",
   "execution_count": 24,
   "metadata": {},
   "outputs": [
    {
     "output_type": "execute_result",
     "data": {
      "text/plain": "              City    Lat     Lng  Max Temp  Humidity  Cloudiness  Wind Speed  \\\n0           Albany  42.60  -73.97     60.01        96           0        6.53   \n1          Mataura -46.19  168.86     61.88        46           0       15.19   \n2     Punta Arenas -53.15  -70.92     32.00        90          12       13.87   \n3      Tuktoyaktuk  69.45 -133.04     46.40        81          90       16.11   \n4   Saint-Philippe -21.36   55.77     66.20        68          20        3.36   \n5  Arraial Do Cabo -22.97  -42.03     75.20        78           0       12.75   \n6      Pietarsaari  63.65   22.68     57.00        93         100        2.24   \n7         Victoria  22.29  114.16     89.01        62          53        5.99   \n8      Derzhavinsk  51.10   66.32     66.72        46           0        6.96   \n9        Upernavik  72.79  -56.15     39.87        88         100       10.22   \n\n  Current Description Country                 Date  \n0           clear sky      US  2020-08-31 01:17:07  \n1           clear sky      NZ  2020-08-31 01:17:07  \n2          few clouds      CL  2020-08-31 01:17:07  \n3     overcast clouds      CA  2020-08-31 01:17:08  \n4          few clouds      RE  2020-08-31 01:17:08  \n5           clear sky      BR  2020-08-31 01:17:08  \n6          light rain      FI  2020-08-31 01:17:09  \n7          light rain      HK  2020-08-31 01:17:09  \n8           clear sky      KZ  2020-08-31 01:13:29  \n9     overcast clouds      GL  2020-08-31 01:17:09  ",
      "text/html": "<div>\n<style scoped>\n    .dataframe tbody tr th:only-of-type {\n        vertical-align: middle;\n    }\n\n    .dataframe tbody tr th {\n        vertical-align: top;\n    }\n\n    .dataframe thead th {\n        text-align: right;\n    }\n</style>\n<table border=\"1\" class=\"dataframe\">\n  <thead>\n    <tr style=\"text-align: right;\">\n      <th></th>\n      <th>City</th>\n      <th>Lat</th>\n      <th>Lng</th>\n      <th>Max Temp</th>\n      <th>Humidity</th>\n      <th>Cloudiness</th>\n      <th>Wind Speed</th>\n      <th>Current Description</th>\n      <th>Country</th>\n      <th>Date</th>\n    </tr>\n  </thead>\n  <tbody>\n    <tr>\n      <th>0</th>\n      <td>Albany</td>\n      <td>42.60</td>\n      <td>-73.97</td>\n      <td>60.01</td>\n      <td>96</td>\n      <td>0</td>\n      <td>6.53</td>\n      <td>clear sky</td>\n      <td>US</td>\n      <td>2020-08-31 01:17:07</td>\n    </tr>\n    <tr>\n      <th>1</th>\n      <td>Mataura</td>\n      <td>-46.19</td>\n      <td>168.86</td>\n      <td>61.88</td>\n      <td>46</td>\n      <td>0</td>\n      <td>15.19</td>\n      <td>clear sky</td>\n      <td>NZ</td>\n      <td>2020-08-31 01:17:07</td>\n    </tr>\n    <tr>\n      <th>2</th>\n      <td>Punta Arenas</td>\n      <td>-53.15</td>\n      <td>-70.92</td>\n      <td>32.00</td>\n      <td>90</td>\n      <td>12</td>\n      <td>13.87</td>\n      <td>few clouds</td>\n      <td>CL</td>\n      <td>2020-08-31 01:17:07</td>\n    </tr>\n    <tr>\n      <th>3</th>\n      <td>Tuktoyaktuk</td>\n      <td>69.45</td>\n      <td>-133.04</td>\n      <td>46.40</td>\n      <td>81</td>\n      <td>90</td>\n      <td>16.11</td>\n      <td>overcast clouds</td>\n      <td>CA</td>\n      <td>2020-08-31 01:17:08</td>\n    </tr>\n    <tr>\n      <th>4</th>\n      <td>Saint-Philippe</td>\n      <td>-21.36</td>\n      <td>55.77</td>\n      <td>66.20</td>\n      <td>68</td>\n      <td>20</td>\n      <td>3.36</td>\n      <td>few clouds</td>\n      <td>RE</td>\n      <td>2020-08-31 01:17:08</td>\n    </tr>\n    <tr>\n      <th>5</th>\n      <td>Arraial Do Cabo</td>\n      <td>-22.97</td>\n      <td>-42.03</td>\n      <td>75.20</td>\n      <td>78</td>\n      <td>0</td>\n      <td>12.75</td>\n      <td>clear sky</td>\n      <td>BR</td>\n      <td>2020-08-31 01:17:08</td>\n    </tr>\n    <tr>\n      <th>6</th>\n      <td>Pietarsaari</td>\n      <td>63.65</td>\n      <td>22.68</td>\n      <td>57.00</td>\n      <td>93</td>\n      <td>100</td>\n      <td>2.24</td>\n      <td>light rain</td>\n      <td>FI</td>\n      <td>2020-08-31 01:17:09</td>\n    </tr>\n    <tr>\n      <th>7</th>\n      <td>Victoria</td>\n      <td>22.29</td>\n      <td>114.16</td>\n      <td>89.01</td>\n      <td>62</td>\n      <td>53</td>\n      <td>5.99</td>\n      <td>light rain</td>\n      <td>HK</td>\n      <td>2020-08-31 01:17:09</td>\n    </tr>\n    <tr>\n      <th>8</th>\n      <td>Derzhavinsk</td>\n      <td>51.10</td>\n      <td>66.32</td>\n      <td>66.72</td>\n      <td>46</td>\n      <td>0</td>\n      <td>6.96</td>\n      <td>clear sky</td>\n      <td>KZ</td>\n      <td>2020-08-31 01:13:29</td>\n    </tr>\n    <tr>\n      <th>9</th>\n      <td>Upernavik</td>\n      <td>72.79</td>\n      <td>-56.15</td>\n      <td>39.87</td>\n      <td>88</td>\n      <td>100</td>\n      <td>10.22</td>\n      <td>overcast clouds</td>\n      <td>GL</td>\n      <td>2020-08-31 01:17:09</td>\n    </tr>\n  </tbody>\n</table>\n</div>"
     },
     "metadata": {},
     "execution_count": 24
    }
   ],
   "source": [
    "# Convert the array of dictionaries to a Pandas DataFrame.\n",
    "city_data_df = pd.DataFrame(city_data)\n",
    "city_data_df.head(10)"
   ]
  },
  {
   "cell_type": "code",
   "execution_count": 25,
   "metadata": {},
   "outputs": [],
   "source": [
    "# Create the output file (CSV).\n",
    "output_data_file = \"weather_data/weatherpy_challenge.csv\"\n",
    "# Export the City_Data into a CSV.\n",
    "city_data_df.to_csv(output_data_file, index_label=\"City_ID\")"
   ]
  }
 ]
}